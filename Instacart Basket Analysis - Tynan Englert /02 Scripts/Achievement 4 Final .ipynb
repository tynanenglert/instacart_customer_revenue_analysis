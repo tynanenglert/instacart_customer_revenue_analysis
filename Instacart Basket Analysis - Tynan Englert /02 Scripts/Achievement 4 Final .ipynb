{
 "cells": [
  {
   "cell_type": "markdown",
   "id": "db25b27c",
   "metadata": {},
   "source": [
    "# Achievement 4 Final "
   ]
  },
  {
   "cell_type": "markdown",
   "id": "21857cb0",
   "metadata": {},
   "source": [
    "## 01 Importing Libraries and Data "
   ]
  },
  {
   "cell_type": "code",
   "execution_count": 2,
   "id": "d0bf6d6b",
   "metadata": {},
   "outputs": [],
   "source": [
    "import numpy as np \n",
    "import pandas as pd \n",
    "import os \n",
    "import matplotlib.pyplot as plt \n",
    "import seaborn as sns\n",
    "import scipy "
   ]
  },
  {
   "cell_type": "code",
   "execution_count": 3,
   "id": "d384c79f",
   "metadata": {},
   "outputs": [],
   "source": [
    "path = r'/Users/brookecoffey/10-07-2023 Instacart Basket Analysis'"
   ]
  },
  {
   "cell_type": "code",
   "execution_count": 4,
   "id": "3e3374a0",
   "metadata": {},
   "outputs": [],
   "source": [
    "df_final = pd.read_pickle(os.path.join(path,'02 Data', 'Prepared Data', 'df_final_cleaned.pkl'))"
   ]
  },
  {
   "cell_type": "markdown",
   "id": "0f8a868a",
   "metadata": {},
   "source": [
    "## 02 Summarizing Dataframe Before Manipulations"
   ]
  },
  {
   "cell_type": "code",
   "execution_count": 5,
   "id": "ab50489f",
   "metadata": {},
   "outputs": [
    {
     "data": {
      "text/plain": [
       "(30624960, 33)"
      ]
     },
     "execution_count": 5,
     "metadata": {},
     "output_type": "execute_result"
    }
   ],
   "source": [
    "df_final.shape"
   ]
  },
  {
   "cell_type": "code",
   "execution_count": 6,
   "id": "32c926f4",
   "metadata": {},
   "outputs": [
    {
     "data": {
      "text/html": [
       "<div>\n",
       "<style scoped>\n",
       "    .dataframe tbody tr th:only-of-type {\n",
       "        vertical-align: middle;\n",
       "    }\n",
       "\n",
       "    .dataframe tbody tr th {\n",
       "        vertical-align: top;\n",
       "    }\n",
       "\n",
       "    .dataframe thead th {\n",
       "        text-align: right;\n",
       "    }\n",
       "</style>\n",
       "<table border=\"1\" class=\"dataframe\">\n",
       "  <thead>\n",
       "    <tr style=\"text-align: right;\">\n",
       "      <th></th>\n",
       "      <th>user_id</th>\n",
       "      <th>first_name</th>\n",
       "      <th>last_name</th>\n",
       "      <th>gender</th>\n",
       "      <th>state</th>\n",
       "      <th>age</th>\n",
       "      <th>date_joined</th>\n",
       "      <th>n_dependants</th>\n",
       "      <th>married_status</th>\n",
       "      <th>income</th>\n",
       "      <th>...</th>\n",
       "      <th>busiest_day</th>\n",
       "      <th>price_range</th>\n",
       "      <th>busiest_days</th>\n",
       "      <th>busiest_period_of_day</th>\n",
       "      <th>max_order</th>\n",
       "      <th>loyalty_flag</th>\n",
       "      <th>avg_order_price</th>\n",
       "      <th>spending_flag</th>\n",
       "      <th>median_days_since_prior_order</th>\n",
       "      <th>frequency_tag</th>\n",
       "    </tr>\n",
       "  </thead>\n",
       "  <tbody>\n",
       "    <tr>\n",
       "      <th>0</th>\n",
       "      <td>26711</td>\n",
       "      <td>Deborah</td>\n",
       "      <td>Esquivel</td>\n",
       "      <td>Female</td>\n",
       "      <td>Missouri</td>\n",
       "      <td>48</td>\n",
       "      <td>1/1/2017</td>\n",
       "      <td>3</td>\n",
       "      <td>married</td>\n",
       "      <td>165665</td>\n",
       "      <td>...</td>\n",
       "      <td>Regularly busy</td>\n",
       "      <td>Mid-range product</td>\n",
       "      <td>Busiest day</td>\n",
       "      <td>Most orders</td>\n",
       "      <td>8</td>\n",
       "      <td>New customer</td>\n",
       "      <td>7.988889</td>\n",
       "      <td>Low Spender</td>\n",
       "      <td>19.0</td>\n",
       "      <td>Regular Customer</td>\n",
       "    </tr>\n",
       "    <tr>\n",
       "      <th>1</th>\n",
       "      <td>26711</td>\n",
       "      <td>Deborah</td>\n",
       "      <td>Esquivel</td>\n",
       "      <td>Female</td>\n",
       "      <td>Missouri</td>\n",
       "      <td>48</td>\n",
       "      <td>1/1/2017</td>\n",
       "      <td>3</td>\n",
       "      <td>married</td>\n",
       "      <td>165665</td>\n",
       "      <td>...</td>\n",
       "      <td>Regularly busy</td>\n",
       "      <td>Mid-range product</td>\n",
       "      <td>Regularly busy</td>\n",
       "      <td>Most orders</td>\n",
       "      <td>8</td>\n",
       "      <td>New customer</td>\n",
       "      <td>7.988889</td>\n",
       "      <td>Low Spender</td>\n",
       "      <td>19.0</td>\n",
       "      <td>Regular Customer</td>\n",
       "    </tr>\n",
       "    <tr>\n",
       "      <th>2</th>\n",
       "      <td>26711</td>\n",
       "      <td>Deborah</td>\n",
       "      <td>Esquivel</td>\n",
       "      <td>Female</td>\n",
       "      <td>Missouri</td>\n",
       "      <td>48</td>\n",
       "      <td>1/1/2017</td>\n",
       "      <td>3</td>\n",
       "      <td>married</td>\n",
       "      <td>165665</td>\n",
       "      <td>...</td>\n",
       "      <td>Regularly busy</td>\n",
       "      <td>Mid-range product</td>\n",
       "      <td>Busiest day</td>\n",
       "      <td>Most orders</td>\n",
       "      <td>8</td>\n",
       "      <td>New customer</td>\n",
       "      <td>7.988889</td>\n",
       "      <td>Low Spender</td>\n",
       "      <td>19.0</td>\n",
       "      <td>Regular Customer</td>\n",
       "    </tr>\n",
       "    <tr>\n",
       "      <th>3</th>\n",
       "      <td>26711</td>\n",
       "      <td>Deborah</td>\n",
       "      <td>Esquivel</td>\n",
       "      <td>Female</td>\n",
       "      <td>Missouri</td>\n",
       "      <td>48</td>\n",
       "      <td>1/1/2017</td>\n",
       "      <td>3</td>\n",
       "      <td>married</td>\n",
       "      <td>165665</td>\n",
       "      <td>...</td>\n",
       "      <td>Regularly busy</td>\n",
       "      <td>Mid-range product</td>\n",
       "      <td>Regularly busy</td>\n",
       "      <td>Most orders</td>\n",
       "      <td>8</td>\n",
       "      <td>New customer</td>\n",
       "      <td>7.988889</td>\n",
       "      <td>Low Spender</td>\n",
       "      <td>19.0</td>\n",
       "      <td>Regular Customer</td>\n",
       "    </tr>\n",
       "    <tr>\n",
       "      <th>4</th>\n",
       "      <td>26711</td>\n",
       "      <td>Deborah</td>\n",
       "      <td>Esquivel</td>\n",
       "      <td>Female</td>\n",
       "      <td>Missouri</td>\n",
       "      <td>48</td>\n",
       "      <td>1/1/2017</td>\n",
       "      <td>3</td>\n",
       "      <td>married</td>\n",
       "      <td>165665</td>\n",
       "      <td>...</td>\n",
       "      <td>Regularly busy</td>\n",
       "      <td>Mid-range product</td>\n",
       "      <td>Least busy</td>\n",
       "      <td>Most orders</td>\n",
       "      <td>8</td>\n",
       "      <td>New customer</td>\n",
       "      <td>7.988889</td>\n",
       "      <td>Low Spender</td>\n",
       "      <td>19.0</td>\n",
       "      <td>Regular Customer</td>\n",
       "    </tr>\n",
       "  </tbody>\n",
       "</table>\n",
       "<p>5 rows × 33 columns</p>\n",
       "</div>"
      ],
      "text/plain": [
       "  user_id first_name last_name  gender     state  age date_joined  \\\n",
       "0   26711    Deborah  Esquivel  Female  Missouri   48    1/1/2017   \n",
       "1   26711    Deborah  Esquivel  Female  Missouri   48    1/1/2017   \n",
       "2   26711    Deborah  Esquivel  Female  Missouri   48    1/1/2017   \n",
       "3   26711    Deborah  Esquivel  Female  Missouri   48    1/1/2017   \n",
       "4   26711    Deborah  Esquivel  Female  Missouri   48    1/1/2017   \n",
       "\n",
       "   n_dependants married_status  income  ...     busiest_day  \\\n",
       "0             3        married  165665  ...  Regularly busy   \n",
       "1             3        married  165665  ...  Regularly busy   \n",
       "2             3        married  165665  ...  Regularly busy   \n",
       "3             3        married  165665  ...  Regularly busy   \n",
       "4             3        married  165665  ...  Regularly busy   \n",
       "\n",
       "         price_range    busiest_days  busiest_period_of_day  max_order  \\\n",
       "0  Mid-range product     Busiest day            Most orders          8   \n",
       "1  Mid-range product  Regularly busy            Most orders          8   \n",
       "2  Mid-range product     Busiest day            Most orders          8   \n",
       "3  Mid-range product  Regularly busy            Most orders          8   \n",
       "4  Mid-range product      Least busy            Most orders          8   \n",
       "\n",
       "   loyalty_flag  avg_order_price  spending_flag median_days_since_prior_order  \\\n",
       "0  New customer         7.988889    Low Spender                          19.0   \n",
       "1  New customer         7.988889    Low Spender                          19.0   \n",
       "2  New customer         7.988889    Low Spender                          19.0   \n",
       "3  New customer         7.988889    Low Spender                          19.0   \n",
       "4  New customer         7.988889    Low Spender                          19.0   \n",
       "\n",
       "      frequency_tag  \n",
       "0  Regular Customer  \n",
       "1  Regular Customer  \n",
       "2  Regular Customer  \n",
       "3  Regular Customer  \n",
       "4  Regular Customer  \n",
       "\n",
       "[5 rows x 33 columns]"
      ]
     },
     "execution_count": 6,
     "metadata": {},
     "output_type": "execute_result"
    }
   ],
   "source": [
    "df_final.head()"
   ]
  },
  {
   "cell_type": "code",
   "execution_count": 7,
   "id": "d7751fcd",
   "metadata": {},
   "outputs": [
    {
     "data": {
      "text/plain": [
       "Index(['user_id', 'first_name', 'last_name', 'gender', 'state', 'age',\n",
       "       'date_joined', 'n_dependants', 'married_status', 'income', 'order_id',\n",
       "       'order_number', 'order_day_of_week', 'order_hour_of_day',\n",
       "       'days_since_prior_order', 'product_id', 'add_to_cart_order',\n",
       "       'reordered', 'product_name', 'aisle_id', 'department_id', 'prices',\n",
       "       'price_range_loc', 'busiest_day', 'price_range', 'busiest_days',\n",
       "       'busiest_period_of_day', 'max_order', 'loyalty_flag', 'avg_order_price',\n",
       "       'spending_flag', 'median_days_since_prior_order', 'frequency_tag'],\n",
       "      dtype='object')"
      ]
     },
     "execution_count": 7,
     "metadata": {},
     "output_type": "execute_result"
    }
   ],
   "source": [
    "df_final.columns"
   ]
  },
  {
   "cell_type": "markdown",
   "id": "3f186d1a",
   "metadata": {},
   "source": [
    "## 03a Transformations for PII Compliance"
   ]
  },
  {
   "cell_type": "markdown",
   "id": "9eaea5cd",
   "metadata": {},
   "source": [
    "#### Consider any security implications that might exist for this new data. You’ll need to address any PII data in the data before continuing your analysis"
   ]
  },
  {
   "cell_type": "markdown",
   "id": "7bb3fe98",
   "metadata": {},
   "source": [
    "#### Only PII data I could find was the first_name and last_name columns.  I will drop those from the working dataset"
   ]
  },
  {
   "cell_type": "code",
   "execution_count": 8,
   "id": "826c2131",
   "metadata": {},
   "outputs": [],
   "source": [
    "# Dropping first_name and last_name from the working dataset\n",
    "df_final_private = df_final.drop(columns = ['first_name', 'last_name'])"
   ]
  },
  {
   "cell_type": "code",
   "execution_count": 9,
   "id": "a777a164",
   "metadata": {},
   "outputs": [
    {
     "data": {
      "text/html": [
       "<div>\n",
       "<style scoped>\n",
       "    .dataframe tbody tr th:only-of-type {\n",
       "        vertical-align: middle;\n",
       "    }\n",
       "\n",
       "    .dataframe tbody tr th {\n",
       "        vertical-align: top;\n",
       "    }\n",
       "\n",
       "    .dataframe thead th {\n",
       "        text-align: right;\n",
       "    }\n",
       "</style>\n",
       "<table border=\"1\" class=\"dataframe\">\n",
       "  <thead>\n",
       "    <tr style=\"text-align: right;\">\n",
       "      <th></th>\n",
       "      <th>user_id</th>\n",
       "      <th>gender</th>\n",
       "      <th>state</th>\n",
       "      <th>age</th>\n",
       "      <th>date_joined</th>\n",
       "      <th>n_dependants</th>\n",
       "      <th>married_status</th>\n",
       "      <th>income</th>\n",
       "      <th>order_id</th>\n",
       "      <th>order_number</th>\n",
       "      <th>...</th>\n",
       "      <th>busiest_day</th>\n",
       "      <th>price_range</th>\n",
       "      <th>busiest_days</th>\n",
       "      <th>busiest_period_of_day</th>\n",
       "      <th>max_order</th>\n",
       "      <th>loyalty_flag</th>\n",
       "      <th>avg_order_price</th>\n",
       "      <th>spending_flag</th>\n",
       "      <th>median_days_since_prior_order</th>\n",
       "      <th>frequency_tag</th>\n",
       "    </tr>\n",
       "  </thead>\n",
       "  <tbody>\n",
       "    <tr>\n",
       "      <th>0</th>\n",
       "      <td>26711</td>\n",
       "      <td>Female</td>\n",
       "      <td>Missouri</td>\n",
       "      <td>48</td>\n",
       "      <td>1/1/2017</td>\n",
       "      <td>3</td>\n",
       "      <td>married</td>\n",
       "      <td>165665</td>\n",
       "      <td>2543867</td>\n",
       "      <td>5</td>\n",
       "      <td>...</td>\n",
       "      <td>Regularly busy</td>\n",
       "      <td>Mid-range product</td>\n",
       "      <td>Busiest day</td>\n",
       "      <td>Most orders</td>\n",
       "      <td>8</td>\n",
       "      <td>New customer</td>\n",
       "      <td>7.988889</td>\n",
       "      <td>Low Spender</td>\n",
       "      <td>19.0</td>\n",
       "      <td>Regular Customer</td>\n",
       "    </tr>\n",
       "    <tr>\n",
       "      <th>1</th>\n",
       "      <td>26711</td>\n",
       "      <td>Female</td>\n",
       "      <td>Missouri</td>\n",
       "      <td>48</td>\n",
       "      <td>1/1/2017</td>\n",
       "      <td>3</td>\n",
       "      <td>married</td>\n",
       "      <td>165665</td>\n",
       "      <td>1285508</td>\n",
       "      <td>7</td>\n",
       "      <td>...</td>\n",
       "      <td>Regularly busy</td>\n",
       "      <td>Mid-range product</td>\n",
       "      <td>Regularly busy</td>\n",
       "      <td>Most orders</td>\n",
       "      <td>8</td>\n",
       "      <td>New customer</td>\n",
       "      <td>7.988889</td>\n",
       "      <td>Low Spender</td>\n",
       "      <td>19.0</td>\n",
       "      <td>Regular Customer</td>\n",
       "    </tr>\n",
       "    <tr>\n",
       "      <th>2</th>\n",
       "      <td>26711</td>\n",
       "      <td>Female</td>\n",
       "      <td>Missouri</td>\n",
       "      <td>48</td>\n",
       "      <td>1/1/2017</td>\n",
       "      <td>3</td>\n",
       "      <td>married</td>\n",
       "      <td>165665</td>\n",
       "      <td>2578584</td>\n",
       "      <td>8</td>\n",
       "      <td>...</td>\n",
       "      <td>Regularly busy</td>\n",
       "      <td>Mid-range product</td>\n",
       "      <td>Busiest day</td>\n",
       "      <td>Most orders</td>\n",
       "      <td>8</td>\n",
       "      <td>New customer</td>\n",
       "      <td>7.988889</td>\n",
       "      <td>Low Spender</td>\n",
       "      <td>19.0</td>\n",
       "      <td>Regular Customer</td>\n",
       "    </tr>\n",
       "    <tr>\n",
       "      <th>3</th>\n",
       "      <td>26711</td>\n",
       "      <td>Female</td>\n",
       "      <td>Missouri</td>\n",
       "      <td>48</td>\n",
       "      <td>1/1/2017</td>\n",
       "      <td>3</td>\n",
       "      <td>married</td>\n",
       "      <td>165665</td>\n",
       "      <td>423547</td>\n",
       "      <td>2</td>\n",
       "      <td>...</td>\n",
       "      <td>Regularly busy</td>\n",
       "      <td>Mid-range product</td>\n",
       "      <td>Regularly busy</td>\n",
       "      <td>Most orders</td>\n",
       "      <td>8</td>\n",
       "      <td>New customer</td>\n",
       "      <td>7.988889</td>\n",
       "      <td>Low Spender</td>\n",
       "      <td>19.0</td>\n",
       "      <td>Regular Customer</td>\n",
       "    </tr>\n",
       "    <tr>\n",
       "      <th>4</th>\n",
       "      <td>26711</td>\n",
       "      <td>Female</td>\n",
       "      <td>Missouri</td>\n",
       "      <td>48</td>\n",
       "      <td>1/1/2017</td>\n",
       "      <td>3</td>\n",
       "      <td>married</td>\n",
       "      <td>165665</td>\n",
       "      <td>2524893</td>\n",
       "      <td>3</td>\n",
       "      <td>...</td>\n",
       "      <td>Regularly busy</td>\n",
       "      <td>Mid-range product</td>\n",
       "      <td>Least busy</td>\n",
       "      <td>Most orders</td>\n",
       "      <td>8</td>\n",
       "      <td>New customer</td>\n",
       "      <td>7.988889</td>\n",
       "      <td>Low Spender</td>\n",
       "      <td>19.0</td>\n",
       "      <td>Regular Customer</td>\n",
       "    </tr>\n",
       "  </tbody>\n",
       "</table>\n",
       "<p>5 rows × 31 columns</p>\n",
       "</div>"
      ],
      "text/plain": [
       "  user_id  gender     state  age date_joined  n_dependants married_status  \\\n",
       "0   26711  Female  Missouri   48    1/1/2017             3        married   \n",
       "1   26711  Female  Missouri   48    1/1/2017             3        married   \n",
       "2   26711  Female  Missouri   48    1/1/2017             3        married   \n",
       "3   26711  Female  Missouri   48    1/1/2017             3        married   \n",
       "4   26711  Female  Missouri   48    1/1/2017             3        married   \n",
       "\n",
       "   income  order_id  order_number  ...     busiest_day        price_range  \\\n",
       "0  165665   2543867             5  ...  Regularly busy  Mid-range product   \n",
       "1  165665   1285508             7  ...  Regularly busy  Mid-range product   \n",
       "2  165665   2578584             8  ...  Regularly busy  Mid-range product   \n",
       "3  165665    423547             2  ...  Regularly busy  Mid-range product   \n",
       "4  165665   2524893             3  ...  Regularly busy  Mid-range product   \n",
       "\n",
       "     busiest_days  busiest_period_of_day  max_order  loyalty_flag  \\\n",
       "0     Busiest day            Most orders          8  New customer   \n",
       "1  Regularly busy            Most orders          8  New customer   \n",
       "2     Busiest day            Most orders          8  New customer   \n",
       "3  Regularly busy            Most orders          8  New customer   \n",
       "4      Least busy            Most orders          8  New customer   \n",
       "\n",
       "  avg_order_price  spending_flag  median_days_since_prior_order  \\\n",
       "0        7.988889    Low Spender                           19.0   \n",
       "1        7.988889    Low Spender                           19.0   \n",
       "2        7.988889    Low Spender                           19.0   \n",
       "3        7.988889    Low Spender                           19.0   \n",
       "4        7.988889    Low Spender                           19.0   \n",
       "\n",
       "      frequency_tag  \n",
       "0  Regular Customer  \n",
       "1  Regular Customer  \n",
       "2  Regular Customer  \n",
       "3  Regular Customer  \n",
       "4  Regular Customer  \n",
       "\n",
       "[5 rows x 31 columns]"
      ]
     },
     "execution_count": 9,
     "metadata": {},
     "output_type": "execute_result"
    }
   ],
   "source": [
    "# Check stats on new dataframe to maintain integrity \n",
    "df_final_private.head()"
   ]
  },
  {
   "cell_type": "code",
   "execution_count": 10,
   "id": "160138d3",
   "metadata": {},
   "outputs": [
    {
     "data": {
      "text/plain": [
       "(30624960, 31)"
      ]
     },
     "execution_count": 10,
     "metadata": {},
     "output_type": "execute_result"
    }
   ],
   "source": [
    "df_final_private.shape"
   ]
  },
  {
   "cell_type": "markdown",
   "id": "3349d9d4",
   "metadata": {},
   "source": [
    "#### Nothing missing except for the personal info "
   ]
  },
  {
   "cell_type": "markdown",
   "id": "ddcb3885",
   "metadata": {},
   "source": [
    "## 03b Transformations to Create Region Column"
   ]
  },
  {
   "cell_type": "code",
   "execution_count": 11,
   "id": "2da670c1",
   "metadata": {},
   "outputs": [],
   "source": [
    "# Using function to create regions based on the states column"
   ]
  },
  {
   "cell_type": "code",
   "execution_count": 12,
   "id": "53f497a8",
   "metadata": {},
   "outputs": [],
   "source": [
    "region=[]\n",
    "for value in df_final_private['state']:\n",
    "    if value in ['Maine', 'New Hampshire', 'Vermont', 'Massachusetts', 'Rhode Island', 'Connecticut', 'New York', 'Pennsylvania', 'New Jersey']:\n",
    "        region.append('Northeast')\n",
    "    elif value in ['Wisconsin', 'Michigan', 'Illinois', 'Indiana', 'Ohio', 'North Dakota', 'South Dakota', 'Nebraska', 'Kansas', 'Minnesota', 'Iowa','Missouri']:\n",
    "        region.append('Midwest')\n",
    "    elif value in ['Delaware','Maryland','District of Columbia','Virginia','West Virginia','North Carolina','South Carolina','Georgia','Florida','Kentucky','Tennessee','Mississippi','Alabama','Oklahoma','Texas','Arkansas','Louisiana']:\n",
    "        region.append('South')\n",
    "    else:\n",
    "        region.append('West')"
   ]
  },
  {
   "cell_type": "code",
   "execution_count": 13,
   "id": "2c9872b3",
   "metadata": {},
   "outputs": [],
   "source": [
    "# creating a new column based off of the function above \n",
    "df_final_private['region'] = region"
   ]
  },
  {
   "cell_type": "code",
   "execution_count": 14,
   "id": "e09edd45",
   "metadata": {},
   "outputs": [
    {
     "data": {
      "text/plain": [
       "South        10197336\n",
       "West          7830688\n",
       "Midwest       7175716\n",
       "Northeast     5421220\n",
       "Name: region, dtype: int64"
      ]
     },
     "execution_count": 14,
     "metadata": {},
     "output_type": "execute_result"
    }
   ],
   "source": [
    "# checking frequencies of the new column \n",
    "df_final_private['region'].value_counts()"
   ]
  },
  {
   "cell_type": "markdown",
   "id": "1db62f87",
   "metadata": {},
   "source": [
    "## 03c Crossing Region with Spending Flag "
   ]
  },
  {
   "cell_type": "code",
   "execution_count": 15,
   "id": "feb238f8",
   "metadata": {},
   "outputs": [],
   "source": [
    "# using a crosstab to see relationship between region and spending \n",
    "regional_spend_crosstab = pd.crosstab(df_final_private['region'], df_final_private['spending_flag'], dropna = False)"
   ]
  },
  {
   "cell_type": "code",
   "execution_count": 16,
   "id": "c732b202",
   "metadata": {},
   "outputs": [
    {
     "data": {
      "text/html": [
       "<div>\n",
       "<style scoped>\n",
       "    .dataframe tbody tr th:only-of-type {\n",
       "        vertical-align: middle;\n",
       "    }\n",
       "\n",
       "    .dataframe tbody tr th {\n",
       "        vertical-align: top;\n",
       "    }\n",
       "\n",
       "    .dataframe thead th {\n",
       "        text-align: right;\n",
       "    }\n",
       "</style>\n",
       "<table border=\"1\" class=\"dataframe\">\n",
       "  <thead>\n",
       "    <tr style=\"text-align: right;\">\n",
       "      <th>spending_flag</th>\n",
       "      <th>High Spender</th>\n",
       "      <th>Low Spender</th>\n",
       "    </tr>\n",
       "    <tr>\n",
       "      <th>region</th>\n",
       "      <th></th>\n",
       "      <th></th>\n",
       "    </tr>\n",
       "  </thead>\n",
       "  <tbody>\n",
       "    <tr>\n",
       "      <th>Midwest</th>\n",
       "      <td>148609</td>\n",
       "      <td>7027107</td>\n",
       "    </tr>\n",
       "    <tr>\n",
       "      <th>Northeast</th>\n",
       "      <td>100615</td>\n",
       "      <td>5320605</td>\n",
       "    </tr>\n",
       "    <tr>\n",
       "      <th>South</th>\n",
       "      <td>194877</td>\n",
       "      <td>10002459</td>\n",
       "    </tr>\n",
       "    <tr>\n",
       "      <th>West</th>\n",
       "      <td>146681</td>\n",
       "      <td>7684007</td>\n",
       "    </tr>\n",
       "  </tbody>\n",
       "</table>\n",
       "</div>"
      ],
      "text/plain": [
       "spending_flag  High Spender  Low Spender\n",
       "region                                  \n",
       "Midwest              148609      7027107\n",
       "Northeast            100615      5320605\n",
       "South                194877     10002459\n",
       "West                 146681      7684007"
      ]
     },
     "execution_count": 16,
     "metadata": {},
     "output_type": "execute_result"
    }
   ],
   "source": [
    "regional_spend_crosstab"
   ]
  },
  {
   "cell_type": "code",
   "execution_count": 17,
   "id": "f34dcb1d",
   "metadata": {},
   "outputs": [],
   "source": [
    "# Sorting the results in Descending order \n",
    "regional_spend_crosstab = regional_spend_crosstab.sort_values(by=['Low Spender'], ascending = False)"
   ]
  },
  {
   "cell_type": "code",
   "execution_count": 18,
   "id": "084d7b87",
   "metadata": {},
   "outputs": [
    {
     "data": {
      "image/png": "[encoded data removed]",
      "text/plain": [
       "<Figure size 640x480 with 1 Axes>"
      ]
     },
     "metadata": {},
     "output_type": "display_data"
    }
   ],
   "source": [
    "# Creating a visualization for the above dataframe\n",
    "regional_spend_viz = regional_spend_crosstab.plot.bar()\n",
    "plt.title('Spending Types by Region')\n",
    "plt.show()"
   ]
  },
  {
   "cell_type": "markdown",
   "id": "763b839b",
   "metadata": {},
   "source": [
    "## 03d Excluding Low-Performing Customers"
   ]
  },
  {
   "cell_type": "code",
   "execution_count": 19,
   "id": "077b5cf5",
   "metadata": {},
   "outputs": [],
   "source": [
    "# Using loc function to identify customers that don't generate much revenue \n",
    "df_final_private.loc[df_final_private['max_order'] < 5, 'activity_level'] = 'Low Activity User'\n",
    "df_final_private.loc[df_final_private['max_order'] >= 5, 'activity_level'] = 'Active User'"
   ]
  },
  {
   "cell_type": "code",
   "execution_count": 20,
   "id": "aa20f67f",
   "metadata": {},
   "outputs": [
    {
     "data": {
      "text/plain": [
       "Active User          29266394\n",
       "Low Activity User     1358566\n",
       "Name: activity_level, dtype: int64"
      ]
     },
     "execution_count": 20,
     "metadata": {},
     "output_type": "execute_result"
    }
   ],
   "source": [
    "df_final_private['activity_level'].value_counts()"
   ]
  },
  {
   "cell_type": "code",
   "execution_count": 21,
   "id": "4a99f219",
   "metadata": {},
   "outputs": [],
   "source": [
    "# Creating a new dataframe excluding low activity users\n",
    "df_final_private_excluded = df_final_private[df_final_private['activity_level']=='Active User']"
   ]
  },
  {
   "cell_type": "code",
   "execution_count": 22,
   "id": "10c150a5",
   "metadata": {},
   "outputs": [
    {
     "data": {
      "text/plain": [
       "(30624960, 33)"
      ]
     },
     "execution_count": 22,
     "metadata": {},
     "output_type": "execute_result"
    }
   ],
   "source": [
    "df_final_private.shape"
   ]
  },
  {
   "cell_type": "code",
   "execution_count": 23,
   "id": "318fc2da",
   "metadata": {},
   "outputs": [
    {
     "data": {
      "text/plain": [
       "(29266394, 33)"
      ]
     },
     "execution_count": 23,
     "metadata": {},
     "output_type": "execute_result"
    }
   ],
   "source": [
    "df_final_private_excluded.shape"
   ]
  },
  {
   "cell_type": "code",
   "execution_count": 24,
   "id": "70c230a1",
   "metadata": {},
   "outputs": [
    {
     "data": {
      "text/plain": [
       "-1358566"
      ]
     },
     "execution_count": 24,
     "metadata": {},
     "output_type": "execute_result"
    }
   ],
   "source": [
    "29266394 - 30624960"
   ]
  },
  {
   "cell_type": "markdown",
   "id": "fb7d2e6b",
   "metadata": {},
   "source": [
    "### New Dataframe correctly excludes the low activity users "
   ]
  },
  {
   "cell_type": "markdown",
   "id": "efa64276",
   "metadata": {},
   "source": [
    "### Exporting refined dataset excluding Low Activity Users"
   ]
  },
  {
   "cell_type": "code",
   "execution_count": 25,
   "id": "6caf82a6",
   "metadata": {},
   "outputs": [],
   "source": [
    "df_final_private_excluded.to_pickle(os.path.join(path, '02 Data', 'Prepared Data', 'df_final_private_excluded.pkl'))"
   ]
  },
  {
   "cell_type": "markdown",
   "id": "84f05513",
   "metadata": {},
   "source": [
    "## Exporting Visualizations "
   ]
  },
  {
   "cell_type": "code",
   "execution_count": 26,
   "id": "07c20535",
   "metadata": {},
   "outputs": [],
   "source": [
    "#Exporting graph\n",
    "regional_spend_viz.figure.savefig(os.path.join(path, '04 Analysis', 'Visualizations', 'regional_spend_viz.png'))"
   ]
  },
  {
   "cell_type": "code",
   "execution_count": null,
   "id": "2199339f",
   "metadata": {},
   "outputs": [],
   "source": []
  }
 ],
 "metadata": {
  "kernelspec": {
   "display_name": "Python 3 (ipykernel)",
   "language": "python",
   "name": "python3"
  },
  "language_info": {
   "codemirror_mode": {
    "name": "ipython",
    "version": 3
   },
   "file_extension": ".py",
   "mimetype": "text/x-python",
   "name": "python",
   "nbconvert_exporter": "python",
   "pygments_lexer": "ipython3",
   "version": "3.10.9"
  }
 },
 "nbformat": 4,
 "nbformat_minor": 5
}
