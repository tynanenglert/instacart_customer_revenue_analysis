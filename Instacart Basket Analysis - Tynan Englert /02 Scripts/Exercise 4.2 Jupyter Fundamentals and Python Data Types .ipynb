{
 "cells": [
  {
   "cell_type": "markdown",
   "id": "c519baeb",
   "metadata": {},
   "source": [
    "# Exercise 4.2 - Jupyter Fundamentals and Python Data Types"
   ]
  },
  {
   "cell_type": "markdown",
   "id": "7f32aab0",
   "metadata": {},
   "source": [
    "## Import Libraries"
   ]
  },
  {
   "cell_type": "code",
   "execution_count": 1,
   "id": "4d7b3ffc",
   "metadata": {},
   "outputs": [],
   "source": [
    "# Import Libraries\n",
    "import pandas as pd\n",
    "import numpy as np\n",
    "import os"
   ]
  },
  {
   "cell_type": "markdown",
   "id": "c07b7497",
   "metadata": {},
   "source": [
    "## Data Type Worked Examples"
   ]
  },
  {
   "cell_type": "code",
   "execution_count": null,
   "id": "6dcd63e2",
   "metadata": {},
   "outputs": [],
   "source": [
    "# Code 3 differentw ays of reaching a result of 100 by adding or subtracting numeric variables"
   ]
  },
  {
   "cell_type": "code",
   "execution_count": 2,
   "id": "d83de3b5",
   "metadata": {},
   "outputs": [],
   "source": [
    "x = 50"
   ]
  },
  {
   "cell_type": "code",
   "execution_count": 3,
   "id": "087475da",
   "metadata": {},
   "outputs": [],
   "source": [
    "y = 50"
   ]
  },
  {
   "cell_type": "code",
   "execution_count": 4,
   "id": "dceba53a",
   "metadata": {},
   "outputs": [
    {
     "data": {
      "text/plain": [
       "100"
      ]
     },
     "execution_count": 4,
     "metadata": {},
     "output_type": "execute_result"
    }
   ],
   "source": [
    "x + y"
   ]
  },
  {
   "cell_type": "code",
   "execution_count": 5,
   "id": "00d437b2",
   "metadata": {},
   "outputs": [],
   "source": [
    "x = 111"
   ]
  },
  {
   "cell_type": "code",
   "execution_count": 6,
   "id": "8ddbf6f5",
   "metadata": {},
   "outputs": [],
   "source": [
    "y = 11"
   ]
  },
  {
   "cell_type": "code",
   "execution_count": 7,
   "id": "23519264",
   "metadata": {},
   "outputs": [
    {
     "data": {
      "text/plain": [
       "100"
      ]
     },
     "execution_count": 7,
     "metadata": {},
     "output_type": "execute_result"
    }
   ],
   "source": [
    "x - y"
   ]
  },
  {
   "cell_type": "code",
   "execution_count": 8,
   "id": "845687f1",
   "metadata": {},
   "outputs": [],
   "source": [
    "x = 50"
   ]
  },
  {
   "cell_type": "code",
   "execution_count": 9,
   "id": "e2c0fcb0",
   "metadata": {},
   "outputs": [],
   "source": [
    "y = 25"
   ]
  },
  {
   "cell_type": "code",
   "execution_count": 10,
   "id": "65f53134",
   "metadata": {},
   "outputs": [],
   "source": [
    "z = 25"
   ]
  },
  {
   "cell_type": "code",
   "execution_count": 11,
   "id": "922b1ab2",
   "metadata": {},
   "outputs": [
    {
     "data": {
      "text/plain": [
       "100"
      ]
     },
     "execution_count": 11,
     "metadata": {},
     "output_type": "execute_result"
    }
   ],
   "source": [
    "x + y + z"
   ]
  },
  {
   "cell_type": "code",
   "execution_count": null,
   "id": "c4930ba0",
   "metadata": {},
   "outputs": [],
   "source": [
    "# Code 2 floating-point variables and divide them by each other "
   ]
  },
  {
   "cell_type": "code",
   "execution_count": 12,
   "id": "4fae4723",
   "metadata": {},
   "outputs": [],
   "source": [
    "x = 4.49"
   ]
  },
  {
   "cell_type": "code",
   "execution_count": 13,
   "id": "0b7bb33b",
   "metadata": {},
   "outputs": [
    {
     "data": {
      "text/plain": [
       "float"
      ]
     },
     "execution_count": 13,
     "metadata": {},
     "output_type": "execute_result"
    }
   ],
   "source": [
    "type(x)"
   ]
  },
  {
   "cell_type": "code",
   "execution_count": 14,
   "id": "b603a0e8",
   "metadata": {},
   "outputs": [],
   "source": [
    "y = 3.33"
   ]
  },
  {
   "cell_type": "code",
   "execution_count": 15,
   "id": "b942736a",
   "metadata": {},
   "outputs": [
    {
     "data": {
      "text/plain": [
       "float"
      ]
     },
     "execution_count": 15,
     "metadata": {},
     "output_type": "execute_result"
    }
   ],
   "source": [
    "type(y)"
   ]
  },
  {
   "cell_type": "code",
   "execution_count": 16,
   "id": "e6557bb4",
   "metadata": {},
   "outputs": [
    {
     "data": {
      "text/plain": [
       "1.3483483483483485"
      ]
     },
     "execution_count": 16,
     "metadata": {},
     "output_type": "execute_result"
    }
   ],
   "source": [
    "x / y"
   ]
  },
  {
   "cell_type": "code",
   "execution_count": 17,
   "id": "f5b0b41e",
   "metadata": {},
   "outputs": [],
   "source": [
    "# Construct a short word made of separate strings "
   ]
  },
  {
   "cell_type": "code",
   "execution_count": 18,
   "id": "1778d223",
   "metadata": {},
   "outputs": [],
   "source": [
    "x = 'water'"
   ]
  },
  {
   "cell_type": "code",
   "execution_count": 19,
   "id": "ebf5af14",
   "metadata": {},
   "outputs": [],
   "source": [
    "y = 'fall'"
   ]
  },
  {
   "cell_type": "code",
   "execution_count": 20,
   "id": "4207d6fa",
   "metadata": {},
   "outputs": [
    {
     "data": {
      "text/plain": [
       "'waterfall'"
      ]
     },
     "execution_count": 20,
     "metadata": {},
     "output_type": "execute_result"
    }
   ],
   "source": [
    "x + y"
   ]
  },
  {
   "cell_type": "code",
   "execution_count": 21,
   "id": "5ca22fbb",
   "metadata": {},
   "outputs": [],
   "source": [
    "# Construct 2 short sentences made of separate strings "
   ]
  },
  {
   "cell_type": "code",
   "execution_count": 22,
   "id": "a7ad32fc",
   "metadata": {},
   "outputs": [],
   "source": [
    "x = 'It was a dark and stormy night.  '"
   ]
  },
  {
   "cell_type": "code",
   "execution_count": 23,
   "id": "1c9d76cb",
   "metadata": {},
   "outputs": [],
   "source": [
    "y = 'The ships were all at sea.'"
   ]
  },
  {
   "cell_type": "code",
   "execution_count": 24,
   "id": "0b49f5ac",
   "metadata": {},
   "outputs": [
    {
     "data": {
      "text/plain": [
       "'It was a dark and stormy night.  The ships were all at sea.'"
      ]
     },
     "execution_count": 24,
     "metadata": {},
     "output_type": "execute_result"
    }
   ],
   "source": [
    "x + y"
   ]
  },
  {
   "cell_type": "code",
   "execution_count": 25,
   "id": "b08d696f",
   "metadata": {},
   "outputs": [],
   "source": [
    "x = 'Do you remember '"
   ]
  },
  {
   "cell_type": "code",
   "execution_count": 26,
   "id": "cb97fac5",
   "metadata": {},
   "outputs": [],
   "source": [
    "y = 'the 21st night of September?'"
   ]
  },
  {
   "cell_type": "code",
   "execution_count": 27,
   "id": "d07cc35e",
   "metadata": {},
   "outputs": [
    {
     "data": {
      "text/plain": [
       "'Do you remember the 21st night of September?'"
      ]
     },
     "execution_count": 27,
     "metadata": {},
     "output_type": "execute_result"
    }
   ],
   "source": [
    "x + y"
   ]
  }
 ],
 "metadata": {
  "kernelspec": {
   "display_name": "Python 3 (ipykernel)",
   "language": "python",
   "name": "python3"
  },
  "language_info": {
   "codemirror_mode": {
    "name": "ipython",
    "version": 3
   },
   "file_extension": ".py",
   "mimetype": "text/x-python",
   "name": "python",
   "nbconvert_exporter": "python",
   "pygments_lexer": "ipython3",
   "version": "3.10.9"
  }
 },
 "nbformat": 4,
 "nbformat_minor": 5
}
